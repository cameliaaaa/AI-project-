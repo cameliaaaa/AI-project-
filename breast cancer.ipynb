{
  "cells": [
    {
      "metadata": {
        "collapsed": true
      },
      "cell_type": "markdown",
      "source": "import the data "
    },
    {
      "metadata": {
        "trusted": true
      },
      "cell_type": "code",
      "source": "\n# Import all needed libraries and sublibraries\n\nimport tensorflow as tf\n\nimport keras.backend as K\nfrom keras.models import Sequential\nfrom keras.layers import Dense\nfrom keras.optimizers import Adam\nfrom keras.callbacks import EarlyStopping\nfrom keras.utils import to_categorical\nimport keras\nimport matplotlib.pyplot as graph\n\nimport numpy as np\n\nfrom keras.layers import BatchNormalization\nfrom keras.layers import Dropout\nfrom keras import regularizers\n\nimport pandas as pd\n\nimport sklearn\nfrom sklearn import preprocessing\nfrom sklearn.model_selection import train_test_split\n\nimport matplotlib\nfrom matplotlib import pyplot as plt",
      "execution_count": 12,
      "outputs": []
    },
    {
      "metadata": {},
      "cell_type": "markdown",
      "source": "read the data "
    },
    {
      "metadata": {
        "trusted": true
      },
      "cell_type": "code",
      "source": "df1 = pd.read_csv('X_data.csv')\ndf2 = pd.read_csv('Y_data.csv')\nX_train, X_test, y_train, y_test = train_test_split(df1, df2, test_size = 0.2)\nX_train = preprocessing.scale(X_train)\nX_test = preprocessing.scale(X_test)\nprint(df1.head())\nprint(df2.head())",
      "execution_count": 13,
      "outputs": [
        {
          "output_type": "stream",
          "text": "   17.99  10.38   122.8    1001   0.1184   0.2776  0.3001   0.1471  0.2419  \\\n0  20.57  17.77  132.90  1326.0  0.08474  0.07864  0.0869  0.07017  0.1812   \n1  19.69  21.25  130.00  1203.0  0.10960  0.15990  0.1974  0.12790  0.2069   \n2  11.42  20.38   77.58   386.1  0.14250  0.28390  0.2414  0.10520  0.2597   \n3  20.29  14.34  135.10  1297.0  0.10030  0.13280  0.1980  0.10430  0.1809   \n4  12.45  15.70   82.57   477.1  0.12780  0.17000  0.1578  0.08089  0.2087   \n\n   0.07871   ...     25.38  17.33   184.6    2019  0.1622  0.6656  0.7119  \\\n0  0.05667   ...     24.99  23.41  158.80  1956.0  0.1238  0.1866  0.2416   \n1  0.05999   ...     23.57  25.53  152.50  1709.0  0.1444  0.4245  0.4504   \n2  0.09744   ...     14.91  26.50   98.87   567.7  0.2098  0.8663  0.6869   \n3  0.05883   ...     22.54  16.67  152.20  1575.0  0.1374  0.2050  0.4000   \n4  0.07613   ...     15.47  23.75  103.40   741.6  0.1791  0.5249  0.5355   \n\n   0.2654  0.4601   0.1189  \n0  0.1860  0.2750  0.08902  \n1  0.2430  0.3613  0.08758  \n2  0.2575  0.6638  0.17300  \n3  0.1625  0.2364  0.07678  \n4  0.1741  0.3985  0.12440  \n\n[5 rows x 30 columns]\n   1\n0  1\n1  1\n2  1\n3  1\n4  1\n",
          "name": "stdout"
        }
      ]
    },
    {
      "metadata": {
        "trusted": true
      },
      "cell_type": "code",
      "source": "# define our model \nmodel = Sequential()\n\n# add layers to our model, as our input has 30 features, we try relu as our activation function, and try 20 as our number of neurons in the layer\nmodel.add(Dense(20,input_shape = (30,),activation = 'relu'))\n# for our output, we will return one feature, try sigmoid as our activation function \nmodel.add(Dense(1, activation = 'sigmoid'))\n\n# compile our model, use the binary_crossentropy as our cost function and Adam as optimizer\nmodel.compile(loss ='binary_crossentropy', optimizer = 'Adam', metrics = ['accuracy'])",
      "execution_count": 14,
      "outputs": []
    },
    {
      "metadata": {
        "trusted": true
      },
      "cell_type": "code",
      "source": "# train our model with the training data set, then we use 10% of it as validation set \ntraining = model.fit(X_train, y_train, epochs = 200, validation_split = 0.1,verbose = 0)\n\nprint('training finished')\nprint('Training Evaluation: loss = %0.3f, accuracy = %0.2f%%'\n      %(training.history['loss'][-1], 100 * training.history['accuracy'][-1]))",
      "execution_count": 15,
      "outputs": [
        {
          "output_type": "stream",
          "text": "training finished\nTraining Evaluation: loss = 0.008, accuracy = 100.00%\n",
          "name": "stdout"
        }
      ]
    },
    {
      "metadata": {
        "trusted": true
      },
      "cell_type": "code",
      "source": "# we graph the accuracy and training loss during the training \naccuracy, = graph.plot(training.history['accuracy'],label = 'Accuracy')\ntraining_loss, = graph.plot(training.history['loss'],label = 'Training Loss')\n\n\ngraph.legend(handles = [accuracy,training_loss])\nloss = np.array(training.history['loss'])\nxp = np.linspace(0, loss.shape[0], 10 * loss.shape[0])\ngraph.plot(xp, np.full(xp.shape, 1), c = 'k', linestyle = ':', alpha = 0.5)\ngraph.plot(xp, np.full(xp.shape, 0), c = 'k', linestyle = ':', alpha = 0.5)\ngraph.show()",
      "execution_count": 16,
      "outputs": [
        {
          "output_type": "display_data",
          "data": {
            "image/png": "[encoded data removed]",
            "text/plain": "<Figure size 432x288 with 1 Axes>"
          },
          "metadata": {
            "needs_background": "light"
          }
        }
      ]
    },
    {
      "metadata": {},
      "cell_type": "markdown",
      "source": "testing the model"
    },
    {
      "metadata": {
        "trusted": true
      },
      "cell_type": "code",
      "source": "evaluation = model.evaluate(X_test, y_test, verbose=0)\n### evaluate the performance of our model on the test data \n\nprint('Test Set Evaluation: loss = %0.6f, accuracy = %0.2f' %(evaluation[0], 100*evaluation[1]))",
      "execution_count": 19,
      "outputs": [
        {
          "output_type": "stream",
          "text": "Test Set Evaluation: loss = 0.136990, accuracy = 96.49\n",
          "name": "stdout"
        }
      ]
    },
    {
      "metadata": {
        "trusted": true
      },
      "cell_type": "code",
      "source": "# randomly create a new data to predict whether it is a breast cancer\nnew_sample = [20.00,15.52,134,1221,0.1192,0.2800,0.5001,0.1471,0.2419,0.07871,1.095,0.9053,8.589,153.4,0.006399,0.04904,0.05373,0.01587,0.03003,0.006193,25.38,17.33,184.6,2019,0.1622,0.6656,0.7119,0.2654,0.4601,0.1189]\npredicted = model.predict(np.array([new_sample]))\nprint('Breast cancer prediction for %s:' %(new_sample))\n###\n\nprint(np.around(predicted[0],2))\nprint('breast cancer %s, with %i%% certainty.' %(np.argmax(predicted), np.round(100 * predicted[:, np.argmax(predicted)][0])))",
      "execution_count": 21,
      "outputs": [
        {
          "output_type": "stream",
          "text": "Breast cancer prediction for [20.0, 15.52, 134, 1221, 0.1192, 0.28, 0.5001, 0.1471, 0.2419, 0.07871, 1.095, 0.9053, 8.589, 153.4, 0.006399, 0.04904, 0.05373, 0.01587, 0.03003, 0.006193, 25.38, 17.33, 184.6, 2019, 0.1622, 0.6656, 0.7119, 0.2654, 0.4601, 0.1189]:\n[1.]\nbreast cancer 0, with 100% certainty.\n",
          "name": "stdout"
        }
      ]
    },
    {
      "metadata": {
        "trusted": true
      },
      "cell_type": "code",
      "source": "",
      "execution_count": null,
      "outputs": []
    }
  ],
  "metadata": {
    "kernelspec": {
      "name": "python36",
      "display_name": "Python 3.6",
      "language": "python"
    },
    "language_info": {
      "mimetype": "text/x-python",
      "nbconvert_exporter": "python",
      "name": "python",
      "pygments_lexer": "ipython3",
      "version": "3.6.6",
      "file_extension": ".py",
      "codemirror_mode": {
        "version": 3,
        "name": "ipython"
      }
    }
  },
  "nbformat": 4,
  "nbformat_minor": 2
}